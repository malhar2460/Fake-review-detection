{
 "cells": [
  {
   "cell_type": "code",
   "execution_count": 5,
   "metadata": {},
   "outputs": [
    {
     "data": {
      "text/plain": [
       "0"
      ]
     },
     "execution_count": 5,
     "metadata": {},
     "output_type": "execute_result"
    }
   ],
   "source": [
    "import os\n",
    "os.system(\"pip install -q dagshub mlflow\")\n"
   ]
  },
  {
   "cell_type": "code",
   "execution_count": 1,
   "metadata": {},
   "outputs": [
    {
     "name": "stderr",
     "output_type": "stream",
     "text": [
      "\n",
      "[notice] A new release of pip is available: 24.3.1 -> 25.0.1\n",
      "[notice] To update, run: python.exe -m pip install --upgrade pip\n"
     ]
    },
    {
     "name": "stdout",
     "output_type": "stream",
     "text": [
      "Note: you may need to restart the kernel to use updated packages.\n"
     ]
    },
    {
     "data": {
      "text/html": [
       "<pre style=\"white-space:pre;overflow-x:auto;line-height:normal;font-family:Menlo,'DejaVu Sans Mono',consolas,'Courier New',monospace\">Accessing as malhar.c.prajapati\n",
       "</pre>\n"
      ],
      "text/plain": [
       "Accessing as malhar.c.prajapati\n"
      ]
     },
     "metadata": {},
     "output_type": "display_data"
    },
    {
     "data": {
      "text/html": [
       "<pre style=\"white-space:pre;overflow-x:auto;line-height:normal;font-family:Menlo,'DejaVu Sans Mono',consolas,'Courier New',monospace\">Initialized MLflow to track repo <span style=\"color: #008000; text-decoration-color: #008000\">\"malhar.c.prajapati/my-first-repo\"</span>\n",
       "</pre>\n"
      ],
      "text/plain": [
       "Initialized MLflow to track repo \u001b[32m\"malhar.c.prajapati/my-first-repo\"\u001b[0m\n"
      ]
     },
     "metadata": {},
     "output_type": "display_data"
    },
    {
     "data": {
      "text/html": [
       "<pre style=\"white-space:pre;overflow-x:auto;line-height:normal;font-family:Menlo,'DejaVu Sans Mono',consolas,'Courier New',monospace\">Repository malhar.c.prajapati/my-first-repo initialized!\n",
       "</pre>\n"
      ],
      "text/plain": [
       "Repository malhar.c.prajapati/my-first-repo initialized!\n"
      ]
     },
     "metadata": {},
     "output_type": "display_data"
    },
    {
     "name": "stderr",
     "output_type": "stream",
     "text": [
      "2025/03/02 23:27:53 WARNING mlflow.models.model: Model logged without a signature and input example. Please set `input_example` parameter when logging the model to auto infer the model signature.\n"
     ]
    },
    {
     "name": "stdout",
     "output_type": "stream",
     "text": [
      "Logistic Regression Accuracy: 0.9082\n",
      "🏃 View run LogisticRegression at: https://dagshub.com/malhar.c.prajapati/my-first-repo.mlflow/#/experiments/0/runs/b1ecb5b1563042cd8b266a84dc81330e\n",
      "🧪 View experiment at: https://dagshub.com/malhar.c.prajapati/my-first-repo.mlflow/#/experiments/0\n",
      "Experiment results saved!\n"
     ]
    }
   ],
   "source": [
    "import os\n",
    "import mlflow\n",
    "import mlflow.sklearn\n",
    "import pandas as pd\n",
    "import numpy as np\n",
    "from sklearn.model_selection import train_test_split\n",
    "from sklearn.preprocessing import LabelEncoder, StandardScaler\n",
    "from sklearn.linear_model import LogisticRegression\n",
    "from sklearn.metrics import accuracy_score, confusion_matrix\n",
    "from sklearn.feature_extraction.text import TfidfVectorizer\n",
    "import matplotlib.pyplot as plt\n",
    "import seaborn as sns\n",
    "import dagshub\n",
    "%pip install -q dagshub mlflow\n",
    "\n",
    "# Initialize the DagsHub repository\n",
    "dagshub.init(repo_owner='malhar.c.prajapati', repo_name='my-first-repo', mlflow=True)\n",
    "\n",
    "# Load and preprocess the dataset\n",
    "data_path = \"../Data/Feature-Engineered/preprocessed_lemmatization_features.csv\"\n",
    "df = pd.read_csv(data_path)\n",
    "df.dropna(inplace=True)\n",
    "\n",
    "label_encoder = LabelEncoder()\n",
    "df['label_encoded'] = label_encoder.fit_transform(df['label'])\n",
    "\n",
    "text_features = df['processed_text']\n",
    "numeric_features = df[['lexical_diversity', 'avg_word_length', 'sentiment_polarity',\n",
    "                       'subjectivity', 'flesch_reading_ease', 'sentence_length', 'named_entity_count',\n",
    "                       'noun_count', 'verb_count', 'adj_count', 'adv_count']]\n",
    "y = df['label_encoded']\n",
    "\n",
    "# Vectorization and scaling\n",
    "vectorizer = TfidfVectorizer(max_features=5000)\n",
    "X_text = vectorizer.fit_transform(text_features).toarray()\n",
    "\n",
    "scaler = StandardScaler()\n",
    "X_numeric = scaler.fit_transform(numeric_features)\n",
    "\n",
    "X = np.hstack((X_text, X_numeric))\n",
    "\n",
    "X_train, X_test, y_train, y_test = train_test_split(X, y, test_size=0.2, random_state=42)\n",
    "\n",
    "def train_lr_model():\n",
    "    with mlflow.start_run(run_name=\"LogisticRegression\"):\n",
    "        lr_model = LogisticRegression(max_iter=200)\n",
    "        lr_model.fit(X_train, y_train)\n",
    "        preds = lr_model.predict(X_test)\n",
    "        accuracy = accuracy_score(y_test, preds)\n",
    "        \n",
    "        # Log metrics and model\n",
    "        mlflow.log_metric(\"accuracy\", accuracy)\n",
    "        mlflow.sklearn.log_model(lr_model, \"LogisticRegression_Model\")\n",
    "        \n",
    "        print(f\"Logistic Regression Accuracy: {accuracy:.4f}\")\n",
    "        \n",
    "        lr_cm = confusion_matrix(y_test, preds)\n",
    "        \n",
    "        # Save and log the confusion matrix as an artifact\n",
    "        cm_file = \"confusion_matrix.png\"\n",
    "        plt.figure(figsize=(7, 5))\n",
    "        sns.heatmap(lr_cm, annot=True, fmt='d', cmap='Blues')\n",
    "        plt.title('Logistic Regression Confusion Matrix')\n",
    "        plt.xlabel('Predicted')\n",
    "        plt.ylabel('Actual')\n",
    "        plt.savefig(cm_file)\n",
    "        mlflow.log_artifact(cm_file)  \n",
    "        plt.close()\n",
    "        \n",
    "        return lr_model, accuracy, lr_cm\n",
    "\n",
    "lr_model, lr_acc, lr_cm = train_lr_model()\n",
    "\n",
    "# Save the results in a DataFrame and store it\n",
    "results = {\n",
    "    \"LogisticRegression\": lr_acc\n",
    "}\n",
    "results_df = pd.DataFrame(results.items(), columns=[\"Model\", \"Accuracy\"])\n",
    "results_df.to_csv(\"../Data/experiment_results.csv\", index=False)\n",
    "print(\"Experiment results saved!\")\n"
   ]
  }
 ],
 "metadata": {
  "kernelspec": {
   "display_name": "Python 3",
   "language": "python",
   "name": "python3"
  },
  "language_info": {
   "codemirror_mode": {
    "name": "ipython",
    "version": 3
   },
   "file_extension": ".py",
   "mimetype": "text/x-python",
   "name": "python",
   "nbconvert_exporter": "python",
   "pygments_lexer": "ipython3",
   "version": "3.12.8"
  }
 },
 "nbformat": 4,
 "nbformat_minor": 2
}
