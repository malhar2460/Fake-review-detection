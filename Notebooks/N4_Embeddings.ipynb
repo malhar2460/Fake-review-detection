{
 "cells": [
  {
   "cell_type": "code",
   "execution_count": 1,
   "metadata": {},
   "outputs": [
    {
     "name": "stdout",
     "output_type": "stream",
     "text": [
      "WARNING:tensorflow:From c:\\Users\\MALHAR PRAJAPATI\\AppData\\Local\\Programs\\Python\\Python312\\Lib\\site-packages\\tf_keras\\src\\losses.py:2976: The name tf.losses.sparse_softmax_cross_entropy is deprecated. Please use tf.compat.v1.losses.sparse_softmax_cross_entropy instead.\n",
      "\n"
     ]
    },
    {
     "name": "stderr",
     "output_type": "stream",
     "text": [
      "[nltk_data] Downloading package punkt to C:\\Users\\MALHAR\n",
      "[nltk_data]     PRAJAPATI\\AppData\\Roaming\\nltk_data...\n",
      "[nltk_data]   Package punkt is already up-to-date!\n"
     ]
    },
    {
     "data": {
      "text/plain": [
       "True"
      ]
     },
     "execution_count": 1,
     "metadata": {},
     "output_type": "execute_result"
    }
   ],
   "source": [
    "import os\n",
    "import pandas as pd\n",
    "import numpy as np\n",
    "import nltk\n",
    "from nltk.tokenize import word_tokenize\n",
    "from sklearn.feature_extraction.text import TfidfVectorizer\n",
    "from sentence_transformers import SentenceTransformer\n",
    "\n",
    "nltk.download('punkt')"
   ]
  },
  {
   "cell_type": "code",
   "execution_count": null,
   "metadata": {},
   "outputs": [
    {
     "name": "stdout",
     "output_type": "stream",
     "text": [
      "TF-IDF embeddings saved: ../../Embeddings/preprocessed_lemmatization_tfidf.csv\n"
     ]
    },
    {
     "data": {
      "application/vnd.jupyter.widget-view+json": {
       "model_id": "50dd5a1d4e5d4240933b43cdc1ac600e",
       "version_major": 2,
       "version_minor": 0
      },
      "text/plain": [
       "Batches:   0%|          | 0/1264 [00:00<?, ?it/s]"
      ]
     },
     "metadata": {},
     "output_type": "display_data"
    },
    {
     "name": "stdout",
     "output_type": "stream",
     "text": [
      "BERT embeddings saved: ../../Embeddings/preprocessed_lemmatization_bert.csv\n",
      "GloVe embeddings saved: ../../Embeddings/preprocessed_lemmatization_glove.csv\n",
      "TF-IDF embeddings saved: ../../Embeddings/preprocessed_no_stopwords_tfidf.csv\n"
     ]
    },
    {
     "data": {
      "application/vnd.jupyter.widget-view+json": {
       "model_id": "1f3b7b9ede1e4d1598aadb74f6445b95",
       "version_major": 2,
       "version_minor": 0
      },
      "text/plain": [
       "Batches:   0%|          | 0/1264 [00:00<?, ?it/s]"
      ]
     },
     "metadata": {},
     "output_type": "display_data"
    },
    {
     "name": "stdout",
     "output_type": "stream",
     "text": [
      "BERT embeddings saved: ../../Embeddings/preprocessed_no_stopwords_bert.csv\n",
      "GloVe embeddings saved: ../../Embeddings/preprocessed_no_stopwords_glove.csv\n",
      "TF-IDF embeddings saved: ../../Embeddings/preprocessed_stemming_tfidf.csv\n"
     ]
    },
    {
     "data": {
      "application/vnd.jupyter.widget-view+json": {
       "model_id": "bf5262bbbd8b43389380a9a7af0dc775",
       "version_major": 2,
       "version_minor": 0
      },
      "text/plain": [
       "Batches:   0%|          | 0/1264 [00:00<?, ?it/s]"
      ]
     },
     "metadata": {},
     "output_type": "display_data"
    },
    {
     "name": "stdout",
     "output_type": "stream",
     "text": [
      "BERT embeddings saved: ../../Embeddings/preprocessed_stemming_bert.csv\n",
      "GloVe embeddings saved: ../../Embeddings/preprocessed_stemming_glove.csv\n",
      "TF-IDF embeddings saved: ../../Embeddings/preprocessed_stemming_no_stopwords_tfidf.csv\n"
     ]
    },
    {
     "data": {
      "application/vnd.jupyter.widget-view+json": {
       "model_id": "0d08a81ceee741baa0e36363bccf286e",
       "version_major": 2,
       "version_minor": 0
      },
      "text/plain": [
       "Batches:   0%|          | 0/1264 [00:00<?, ?it/s]"
      ]
     },
     "metadata": {},
     "output_type": "display_data"
    },
    {
     "name": "stdout",
     "output_type": "stream",
     "text": [
      "BERT embeddings saved: ../../Embeddings/preprocessed_stemming_no_stopwords_bert.csv\n",
      "GloVe embeddings saved: ../../Embeddings/preprocessed_stemming_no_stopwords_glove.csv\n",
      "TF-IDF embeddings saved: ../../Embeddings/preprocessed_no_stopwords_no_lemmatization_tfidf.csv\n"
     ]
    },
    {
     "data": {
      "application/vnd.jupyter.widget-view+json": {
       "model_id": "b30798afb05a47a8a69b70acdc7df2b3",
       "version_major": 2,
       "version_minor": 0
      },
      "text/plain": [
       "Batches:   0%|          | 0/1264 [00:00<?, ?it/s]"
      ]
     },
     "metadata": {},
     "output_type": "display_data"
    },
    {
     "name": "stdout",
     "output_type": "stream",
     "text": [
      "BERT embeddings saved: ../../Embeddings/preprocessed_no_stopwords_no_lemmatization_bert.csv\n",
      "GloVe embeddings saved: ../../Embeddings/preprocessed_no_stopwords_no_lemmatization_glove.csv\n",
      "All embeddings computed and saved in folder: ../../Embeddings/\n"
     ]
    }
   ],
   "source": [
    "preprocessed_dir = \"../Data/Pre-processed/\"\n",
    "embeddings_dir = \"../../Embeddings/\"\n",
    "os.makedirs(embeddings_dir, exist_ok=True)\n",
    "\n",
    "dataset_names = [\n",
    "    \"preprocessed_lemmatization\",\n",
    "    \"preprocessed_no_stopwords\",\n",
    "    \"preprocessed_stemming\",\n",
    "    \"preprocessed_stemming_no_stopwords\",\n",
    "    \"preprocessed_no_stopwords_no_lemmatization\",\n",
    "]\n",
    "\n",
    "def compute_tfidf(texts, dataset_name):\n",
    "    vectorizer = TfidfVectorizer(max_features=5000)\n",
    "    X = vectorizer.fit_transform(texts)\n",
    "    df_tfidf = pd.DataFrame(X.toarray(), columns=vectorizer.get_feature_names_out())\n",
    "    output_file = os.path.join(embeddings_dir, f\"{dataset_name}_tfidf.csv\")\n",
    "    df_tfidf.to_csv(output_file, index=False)\n",
    "    print(f\"TF-IDF embeddings saved: {output_file}\")\n",
    "\n",
    "def compute_bert_embeddings(texts, dataset_name, model_name=\"all-MiniLM-L6-v2\"):\n",
    "    model = SentenceTransformer(model_name)\n",
    "    embeddings = model.encode(texts, show_progress_bar=True)\n",
    "    df_bert = pd.DataFrame(embeddings)\n",
    "    output_file = os.path.join(embeddings_dir, f\"{dataset_name}_bert.csv\")\n",
    "    df_bert.to_csv(output_file, index=False)\n",
    "    print(f\"BERT embeddings saved: {output_file}\")\n",
    "\n",
    "def load_glove_embeddings(glove_file_path):\n",
    "    embeddings_index = {}\n",
    "    with open(glove_file_path, encoding='utf8') as f:\n",
    "        for line in f:\n",
    "            values = line.split()\n",
    "            word = values[0]\n",
    "            coefs = np.asarray(values[1:], dtype='float32')\n",
    "            embeddings_index[word] = coefs\n",
    "    return embeddings_index\n",
    "\n",
    "def compute_glove_embeddings(texts, dataset_name, glove_file_path=\"../../glove_data/glove.6B.100d.txt\", embedding_dim=100):\n",
    "    glove_embeddings = load_glove_embeddings(glove_file_path)\n",
    "    sentence_embeddings = []\n",
    "    for text in texts:\n",
    "        tokens = word_tokenize(text.lower())\n",
    "        valid_embeddings = [glove_embeddings[word] for word in tokens if word in glove_embeddings]\n",
    "        if valid_embeddings:\n",
    "            sent_vec = np.mean(valid_embeddings, axis=0)\n",
    "        else:\n",
    "            sent_vec = np.zeros(embedding_dim)\n",
    "        sentence_embeddings.append(sent_vec)\n",
    "    df_glove = pd.DataFrame(sentence_embeddings)\n",
    "    output_file = os.path.join(embeddings_dir, f\"{dataset_name}_glove.csv\")\n",
    "    df_glove.to_csv(output_file, index=False)\n",
    "    print(f\"GloVe embeddings saved: {output_file}\")\n",
    "\n",
    "for dataset_name in dataset_names:\n",
    "    file_path = os.path.join(preprocessed_dir, f\"{dataset_name}.csv\")\n",
    "    df = pd.read_csv(file_path)\n",
    "    texts = df[\"processed_text\"].fillna(\"\").astype(str).tolist()\n",
    "    \n",
    "    compute_tfidf(texts, dataset_name)\n",
    "    compute_bert_embeddings(texts, dataset_name)\n",
    "    compute_glove_embeddings(texts, dataset_name)\n",
    "\n",
    "print(\"All embeddings computed and saved in folder:\", embeddings_dir)"
   ]
  }
 ],
 "metadata": {
  "kernelspec": {
   "display_name": "Python 3",
   "language": "python",
   "name": "python3"
  },
  "language_info": {
   "codemirror_mode": {
    "name": "ipython",
    "version": 3
   },
   "file_extension": ".py",
   "mimetype": "text/x-python",
   "name": "python",
   "nbconvert_exporter": "python",
   "pygments_lexer": "ipython3",
   "version": "3.12.8"
  }
 },
 "nbformat": 4,
 "nbformat_minor": 2
}
